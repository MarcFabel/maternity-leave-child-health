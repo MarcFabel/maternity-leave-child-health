{
 "cells": [
  {
   "cell_type": "markdown",
   "metadata": {},
   "source": [
    "## Program: Smart way to include figures into LaTeX document"
   ]
  },
  {
   "cell_type": "code",
   "execution_count": 1,
   "metadata": {
    "collapsed": true
   },
   "outputs": [],
   "source": [
    "import pandas as pd"
   ]
  },
  {
   "cell_type": "code",
   "execution_count": 2,
   "metadata": {
    "collapsed": false
   },
   "outputs": [
    {
     "name": "stdout",
     "output_type": "stream",
     "text": [
      "\begin{figure}[h]\n"
     ]
    }
   ],
   "source": [
    "print(\"\\begin{figure}[h]\")\n"
   ]
  },
  {
   "cell_type": "code",
   "execution_count": 15,
   "metadata": {
    "collapsed": false
   },
   "outputs": [],
   "source": [
    "# write in txt file\n",
    "f = open('temp.txt','w')## file is created, because it is needed to write in it\n",
    "lines=['\\begin{figure}[h]','\\centering']\n",
    "f.write('\\begin{figure}[h]'+ '\\n')\n",
    "f.write('\\caption{Pooled}' + '\\n')\n",
    "f.close()"
   ]
  },
  {
   "cell_type": "code",
   "execution_count": null,
   "metadata": {
    "collapsed": true
   },
   "outputs": [],
   "source": []
  },
  {
   "cell_type": "code",
   "execution_count": 3,
   "metadata": {
    "collapsed": true
   },
   "outputs": [],
   "source": [
    "# Raw code for the problem:\n",
    "#\\begin{figure}[h]\n",
    "#\\centering\n",
    "#\\caption{Pooled}\n",
    "#\\begin{subfigure}[t]{0.31\\textwidth}\n",
    "#    \\centering\n",
    "#    \\caption{Absolute numbers}\n",
    "#    \\includegraphics[width=0.99\\textwidth]{R1_RD_pooled_CG_Diag_5.pdf}\t\n",
    "#\\end{subfigure}\n",
    "#\\begin{subfigure}[t]{0.31\\textwidth}\n",
    "#    \\centering\n",
    "#    \\caption{Ratio (approx)}\n",
    "#    \\includegraphics[width=0.99\\textwidth]{R1_RD_pooled_CG_Diag_5_r.pdf}\t\n",
    "#\\end{subfigure}\n",
    "#\\begin{subfigure}[t]{0.31\\textwidth}\n",
    "#    \\centering\n",
    "#    \\caption{Ratio (births)}\n",
    "#    \\includegraphics[width=0.99\\textwidth]{R1_RD_pooled_CG_Diag_5_r2.pdf}\t\n",
    "#\\end{subfigure}\n",
    "#%%%%%% surveyjahr\n",
    "#\\begin{subfigure}[t]{0.31\\textwidth}\n",
    "#    \\centering\n",
    "#    \\includegraphics[width=0.99\\textwidth]{R1_RD_peryear_Diag_5_2005.pdf}\t\n",
    "#\\end{subfigure}\n",
    "#\\begin{subfigure}[t]{0.31\\textwidth}\n",
    "#    \\centering\n",
    "#    \\includegraphics[width=0.99\\textwidth]{R1_RD_peryear_Diag_5_r_2005.pdf}\t\n",
    "#\\end{subfigure}\n",
    "#\\begin{subfigure}[t]{0.31\\textwidth}\n",
    "#    \\centering\n",
    "#    \\includegraphics[width=0.99\\textwidth]{R1_RD_peryear_Diag_5_r_2005.pdf}\t\n",
    "#\\end{subfigure}\n",
    "#\\end{figure}"
   ]
  }
 ],
 "metadata": {
  "kernelspec": {
   "display_name": "Python 3",
   "language": "python",
   "name": "python3"
  },
  "language_info": {
   "codemirror_mode": {
    "name": "ipython",
    "version": 3
   },
   "file_extension": ".py",
   "mimetype": "text/x-python",
   "name": "python",
   "nbconvert_exporter": "python",
   "pygments_lexer": "ipython3",
   "version": "3.6.2"
  }
 },
 "nbformat": 4,
 "nbformat_minor": 2
}
